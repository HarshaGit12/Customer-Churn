{
  "nbformat": 4,
  "nbformat_minor": 0,
  "metadata": {
    "colab": {
      "provenance": [],
      "collapsed_sections": []
    },
    "kernelspec": {
      "name": "python3",
      "display_name": "Python 3"
    },
    "language_info": {
      "name": "python"
    }
  },
  "cells": [
    {
      "cell_type": "markdown",
      "source": [
        "#Problem Statement\n",
        "> With the rapid development of telecommunication industry, the service providers are inclined more towards expansion of the subscriber base. \n",
        "\n",
        "> To meet the need of surviving in the competitive environment, the retention of existing customers has become a huge challenge\n",
        "\n",
        "> The cost of acquiring a new customer is far more than that for retaining the existing one.\n",
        "\n",
        "> Therefore, it is imperative for the telecom industries to use advanced analytics to understand consumer behavior and in-turn predict the association of the customers as whether or not they will leave the company.\n",
        "\n",
        "\n",
        "\n",
        " "
      ],
      "metadata": {
        "id": "JQLOjOnTYZSI"
      }
    },
    {
      "cell_type": "markdown",
      "source": [
        "#Dataset:\n",
        "##Input Features:\n",
        "*   AccountWeeks: number of weeks customer has had active account\n",
        "*   ContractRenewal: 1 if customer recently renewed contract, 0 if not\n",
        "*   DataPlan: 1 if customer has data plan, 0 if not\n",
        "*   DataUsage: gigabytes of monthly data usage\n",
        "*   CustServCalls: number of calls into customer service\n",
        "*   DayMins: average daytime minutes per month\n",
        "*   DayCalls: average number of daytime calls\n",
        "*   MonthlyCharge: average monthly bill\n",
        "*   OverageFee: largest overage fee in last 12 months\n",
        "*   RoamMins: average number of roaming minutes\n",
        "\n",
        "\n",
        "##Output Feature:\n",
        "*   **Churn: 1 if customer cancelled service, 0 if not** \n",
        "\n",
        "\n",
        "\n",
        "\n",
        "\n",
        "\n",
        "\n",
        "\n",
        "\n",
        "\n"
      ],
      "metadata": {
        "id": "iyqA72xxZFW1"
      }
    },
    {
      "cell_type": "code",
      "execution_count": 1,
      "metadata": {
        "id": "HzGwsUqF435V"
      },
      "outputs": [],
      "source": [
        "import pandas as pd\n",
        "import numpy as np\n",
        "import seaborn as sns\n",
        "import matplotlib.pyplot as plt"
      ]
    },
    {
      "cell_type": "code",
      "source": [
        "df = pd.read_csv('/content/telecom_churn.csv')\n",
        "df"
      ],
      "metadata": {
        "colab": {
          "base_uri": "https://localhost:8080/",
          "height": 424
        },
        "id": "X7yNKYQu5bVz",
        "outputId": "b4d570ca-8c8a-4d1b-f870-38893be8b711"
      },
      "execution_count": 2,
      "outputs": [
        {
          "output_type": "execute_result",
          "data": {
            "text/plain": [
              "      Churn  AccountWeeks  ContractRenewal  DataPlan  DataUsage  \\\n",
              "0         0           128                1         1       2.70   \n",
              "1         0           107                1         1       3.70   \n",
              "2         0           137                1         0       0.00   \n",
              "3         0            84                0         0       0.00   \n",
              "4         0            75                0         0       0.00   \n",
              "...     ...           ...              ...       ...        ...   \n",
              "3328      0           192                1         1       2.67   \n",
              "3329      0            68                1         0       0.34   \n",
              "3330      0            28                1         0       0.00   \n",
              "3331      0           184                0         0       0.00   \n",
              "3332      0            74                1         1       3.70   \n",
              "\n",
              "      CustServCalls  DayMins  DayCalls  MonthlyCharge  OverageFee  RoamMins  \n",
              "0                 1    265.1       110           89.0        9.87      10.0  \n",
              "1                 1    161.6       123           82.0        9.78      13.7  \n",
              "2                 0    243.4       114           52.0        6.06      12.2  \n",
              "3                 2    299.4        71           57.0        3.10       6.6  \n",
              "4                 3    166.7       113           41.0        7.42      10.1  \n",
              "...             ...      ...       ...            ...         ...       ...  \n",
              "3328              2    156.2        77           71.7       10.78       9.9  \n",
              "3329              3    231.1        57           56.4        7.67       9.6  \n",
              "3330              2    180.8       109           56.0       14.44      14.1  \n",
              "3331              2    213.8       105           50.0        7.98       5.0  \n",
              "3332              0    234.4       113          100.0       13.30      13.7  \n",
              "\n",
              "[3333 rows x 11 columns]"
            ],
            "text/html": [
              "\n",
              "  <div id=\"df-786f0403-3fa2-4dc6-8857-6ae21321c5d6\">\n",
              "    <div class=\"colab-df-container\">\n",
              "      <div>\n",
              "<style scoped>\n",
              "    .dataframe tbody tr th:only-of-type {\n",
              "        vertical-align: middle;\n",
              "    }\n",
              "\n",
              "    .dataframe tbody tr th {\n",
              "        vertical-align: top;\n",
              "    }\n",
              "\n",
              "    .dataframe thead th {\n",
              "        text-align: right;\n",
              "    }\n",
              "</style>\n",
              "<table border=\"1\" class=\"dataframe\">\n",
              "  <thead>\n",
              "    <tr style=\"text-align: right;\">\n",
              "      <th></th>\n",
              "      <th>Churn</th>\n",
              "      <th>AccountWeeks</th>\n",
              "      <th>ContractRenewal</th>\n",
              "      <th>DataPlan</th>\n",
              "      <th>DataUsage</th>\n",
              "      <th>CustServCalls</th>\n",
              "      <th>DayMins</th>\n",
              "      <th>DayCalls</th>\n",
              "      <th>MonthlyCharge</th>\n",
              "      <th>OverageFee</th>\n",
              "      <th>RoamMins</th>\n",
              "    </tr>\n",
              "  </thead>\n",
              "  <tbody>\n",
              "    <tr>\n",
              "      <th>0</th>\n",
              "      <td>0</td>\n",
              "      <td>128</td>\n",
              "      <td>1</td>\n",
              "      <td>1</td>\n",
              "      <td>2.70</td>\n",
              "      <td>1</td>\n",
              "      <td>265.1</td>\n",
              "      <td>110</td>\n",
              "      <td>89.0</td>\n",
              "      <td>9.87</td>\n",
              "      <td>10.0</td>\n",
              "    </tr>\n",
              "    <tr>\n",
              "      <th>1</th>\n",
              "      <td>0</td>\n",
              "      <td>107</td>\n",
              "      <td>1</td>\n",
              "      <td>1</td>\n",
              "      <td>3.70</td>\n",
              "      <td>1</td>\n",
              "      <td>161.6</td>\n",
              "      <td>123</td>\n",
              "      <td>82.0</td>\n",
              "      <td>9.78</td>\n",
              "      <td>13.7</td>\n",
              "    </tr>\n",
              "    <tr>\n",
              "      <th>2</th>\n",
              "      <td>0</td>\n",
              "      <td>137</td>\n",
              "      <td>1</td>\n",
              "      <td>0</td>\n",
              "      <td>0.00</td>\n",
              "      <td>0</td>\n",
              "      <td>243.4</td>\n",
              "      <td>114</td>\n",
              "      <td>52.0</td>\n",
              "      <td>6.06</td>\n",
              "      <td>12.2</td>\n",
              "    </tr>\n",
              "    <tr>\n",
              "      <th>3</th>\n",
              "      <td>0</td>\n",
              "      <td>84</td>\n",
              "      <td>0</td>\n",
              "      <td>0</td>\n",
              "      <td>0.00</td>\n",
              "      <td>2</td>\n",
              "      <td>299.4</td>\n",
              "      <td>71</td>\n",
              "      <td>57.0</td>\n",
              "      <td>3.10</td>\n",
              "      <td>6.6</td>\n",
              "    </tr>\n",
              "    <tr>\n",
              "      <th>4</th>\n",
              "      <td>0</td>\n",
              "      <td>75</td>\n",
              "      <td>0</td>\n",
              "      <td>0</td>\n",
              "      <td>0.00</td>\n",
              "      <td>3</td>\n",
              "      <td>166.7</td>\n",
              "      <td>113</td>\n",
              "      <td>41.0</td>\n",
              "      <td>7.42</td>\n",
              "      <td>10.1</td>\n",
              "    </tr>\n",
              "    <tr>\n",
              "      <th>...</th>\n",
              "      <td>...</td>\n",
              "      <td>...</td>\n",
              "      <td>...</td>\n",
              "      <td>...</td>\n",
              "      <td>...</td>\n",
              "      <td>...</td>\n",
              "      <td>...</td>\n",
              "      <td>...</td>\n",
              "      <td>...</td>\n",
              "      <td>...</td>\n",
              "      <td>...</td>\n",
              "    </tr>\n",
              "    <tr>\n",
              "      <th>3328</th>\n",
              "      <td>0</td>\n",
              "      <td>192</td>\n",
              "      <td>1</td>\n",
              "      <td>1</td>\n",
              "      <td>2.67</td>\n",
              "      <td>2</td>\n",
              "      <td>156.2</td>\n",
              "      <td>77</td>\n",
              "      <td>71.7</td>\n",
              "      <td>10.78</td>\n",
              "      <td>9.9</td>\n",
              "    </tr>\n",
              "    <tr>\n",
              "      <th>3329</th>\n",
              "      <td>0</td>\n",
              "      <td>68</td>\n",
              "      <td>1</td>\n",
              "      <td>0</td>\n",
              "      <td>0.34</td>\n",
              "      <td>3</td>\n",
              "      <td>231.1</td>\n",
              "      <td>57</td>\n",
              "      <td>56.4</td>\n",
              "      <td>7.67</td>\n",
              "      <td>9.6</td>\n",
              "    </tr>\n",
              "    <tr>\n",
              "      <th>3330</th>\n",
              "      <td>0</td>\n",
              "      <td>28</td>\n",
              "      <td>1</td>\n",
              "      <td>0</td>\n",
              "      <td>0.00</td>\n",
              "      <td>2</td>\n",
              "      <td>180.8</td>\n",
              "      <td>109</td>\n",
              "      <td>56.0</td>\n",
              "      <td>14.44</td>\n",
              "      <td>14.1</td>\n",
              "    </tr>\n",
              "    <tr>\n",
              "      <th>3331</th>\n",
              "      <td>0</td>\n",
              "      <td>184</td>\n",
              "      <td>0</td>\n",
              "      <td>0</td>\n",
              "      <td>0.00</td>\n",
              "      <td>2</td>\n",
              "      <td>213.8</td>\n",
              "      <td>105</td>\n",
              "      <td>50.0</td>\n",
              "      <td>7.98</td>\n",
              "      <td>5.0</td>\n",
              "    </tr>\n",
              "    <tr>\n",
              "      <th>3332</th>\n",
              "      <td>0</td>\n",
              "      <td>74</td>\n",
              "      <td>1</td>\n",
              "      <td>1</td>\n",
              "      <td>3.70</td>\n",
              "      <td>0</td>\n",
              "      <td>234.4</td>\n",
              "      <td>113</td>\n",
              "      <td>100.0</td>\n",
              "      <td>13.30</td>\n",
              "      <td>13.7</td>\n",
              "    </tr>\n",
              "  </tbody>\n",
              "</table>\n",
              "<p>3333 rows × 11 columns</p>\n",
              "</div>\n",
              "      <button class=\"colab-df-convert\" onclick=\"convertToInteractive('df-786f0403-3fa2-4dc6-8857-6ae21321c5d6')\"\n",
              "              title=\"Convert this dataframe to an interactive table.\"\n",
              "              style=\"display:none;\">\n",
              "        \n",
              "  <svg xmlns=\"http://www.w3.org/2000/svg\" height=\"24px\"viewBox=\"0 0 24 24\"\n",
              "       width=\"24px\">\n",
              "    <path d=\"M0 0h24v24H0V0z\" fill=\"none\"/>\n",
              "    <path d=\"M18.56 5.44l.94 2.06.94-2.06 2.06-.94-2.06-.94-.94-2.06-.94 2.06-2.06.94zm-11 1L8.5 8.5l.94-2.06 2.06-.94-2.06-.94L8.5 2.5l-.94 2.06-2.06.94zm10 10l.94 2.06.94-2.06 2.06-.94-2.06-.94-.94-2.06-.94 2.06-2.06.94z\"/><path d=\"M17.41 7.96l-1.37-1.37c-.4-.4-.92-.59-1.43-.59-.52 0-1.04.2-1.43.59L10.3 9.45l-7.72 7.72c-.78.78-.78 2.05 0 2.83L4 21.41c.39.39.9.59 1.41.59.51 0 1.02-.2 1.41-.59l7.78-7.78 2.81-2.81c.8-.78.8-2.07 0-2.86zM5.41 20L4 18.59l7.72-7.72 1.47 1.35L5.41 20z\"/>\n",
              "  </svg>\n",
              "      </button>\n",
              "      \n",
              "  <style>\n",
              "    .colab-df-container {\n",
              "      display:flex;\n",
              "      flex-wrap:wrap;\n",
              "      gap: 12px;\n",
              "    }\n",
              "\n",
              "    .colab-df-convert {\n",
              "      background-color: #E8F0FE;\n",
              "      border: none;\n",
              "      border-radius: 50%;\n",
              "      cursor: pointer;\n",
              "      display: none;\n",
              "      fill: #1967D2;\n",
              "      height: 32px;\n",
              "      padding: 0 0 0 0;\n",
              "      width: 32px;\n",
              "    }\n",
              "\n",
              "    .colab-df-convert:hover {\n",
              "      background-color: #E2EBFA;\n",
              "      box-shadow: 0px 1px 2px rgba(60, 64, 67, 0.3), 0px 1px 3px 1px rgba(60, 64, 67, 0.15);\n",
              "      fill: #174EA6;\n",
              "    }\n",
              "\n",
              "    [theme=dark] .colab-df-convert {\n",
              "      background-color: #3B4455;\n",
              "      fill: #D2E3FC;\n",
              "    }\n",
              "\n",
              "    [theme=dark] .colab-df-convert:hover {\n",
              "      background-color: #434B5C;\n",
              "      box-shadow: 0px 1px 3px 1px rgba(0, 0, 0, 0.15);\n",
              "      filter: drop-shadow(0px 1px 2px rgba(0, 0, 0, 0.3));\n",
              "      fill: #FFFFFF;\n",
              "    }\n",
              "  </style>\n",
              "\n",
              "      <script>\n",
              "        const buttonEl =\n",
              "          document.querySelector('#df-786f0403-3fa2-4dc6-8857-6ae21321c5d6 button.colab-df-convert');\n",
              "        buttonEl.style.display =\n",
              "          google.colab.kernel.accessAllowed ? 'block' : 'none';\n",
              "\n",
              "        async function convertToInteractive(key) {\n",
              "          const element = document.querySelector('#df-786f0403-3fa2-4dc6-8857-6ae21321c5d6');\n",
              "          const dataTable =\n",
              "            await google.colab.kernel.invokeFunction('convertToInteractive',\n",
              "                                                     [key], {});\n",
              "          if (!dataTable) return;\n",
              "\n",
              "          const docLinkHtml = 'Like what you see? Visit the ' +\n",
              "            '<a target=\"_blank\" href=https://colab.research.google.com/notebooks/data_table.ipynb>data table notebook</a>'\n",
              "            + ' to learn more about interactive tables.';\n",
              "          element.innerHTML = '';\n",
              "          dataTable['output_type'] = 'display_data';\n",
              "          await google.colab.output.renderOutput(dataTable, element);\n",
              "          const docLink = document.createElement('div');\n",
              "          docLink.innerHTML = docLinkHtml;\n",
              "          element.appendChild(docLink);\n",
              "        }\n",
              "      </script>\n",
              "    </div>\n",
              "  </div>\n",
              "  "
            ]
          },
          "metadata": {},
          "execution_count": 2
        }
      ]
    },
    {
      "cell_type": "code",
      "source": [
        "display(df.info())"
      ],
      "metadata": {
        "colab": {
          "base_uri": "https://localhost:8080/",
          "height": 347
        },
        "id": "CZczufli5oMK",
        "outputId": "690c1a85-cf05-41fa-a08a-2657eb949efb"
      },
      "execution_count": 3,
      "outputs": [
        {
          "output_type": "stream",
          "name": "stdout",
          "text": [
            "<class 'pandas.core.frame.DataFrame'>\n",
            "RangeIndex: 3333 entries, 0 to 3332\n",
            "Data columns (total 11 columns):\n",
            " #   Column           Non-Null Count  Dtype  \n",
            "---  ------           --------------  -----  \n",
            " 0   Churn            3333 non-null   int64  \n",
            " 1   AccountWeeks     3333 non-null   int64  \n",
            " 2   ContractRenewal  3333 non-null   int64  \n",
            " 3   DataPlan         3333 non-null   int64  \n",
            " 4   DataUsage        3333 non-null   float64\n",
            " 5   CustServCalls    3333 non-null   int64  \n",
            " 6   DayMins          3333 non-null   float64\n",
            " 7   DayCalls         3333 non-null   int64  \n",
            " 8   MonthlyCharge    3333 non-null   float64\n",
            " 9   OverageFee       3333 non-null   float64\n",
            " 10  RoamMins         3333 non-null   float64\n",
            "dtypes: float64(5), int64(6)\n",
            "memory usage: 286.6 KB\n"
          ]
        },
        {
          "output_type": "display_data",
          "data": {
            "text/plain": [
              "None"
            ]
          },
          "metadata": {}
        }
      ]
    },
    {
      "cell_type": "markdown",
      "source": [
        "##Data Cleaning"
      ],
      "metadata": {
        "id": "PBPnPZ_Y5znZ"
      }
    },
    {
      "cell_type": "markdown",
      "source": [
        "###Check and handling missing values"
      ],
      "metadata": {
        "id": "OasCrfL152M5"
      }
    },
    {
      "cell_type": "code",
      "source": [
        "df.isna().sum()"
      ],
      "metadata": {
        "colab": {
          "base_uri": "https://localhost:8080/"
        },
        "id": "gFbAec0J56Xx",
        "outputId": "171eb5bc-f7a1-429d-ebd5-5b996dc2854d"
      },
      "execution_count": 4,
      "outputs": [
        {
          "output_type": "execute_result",
          "data": {
            "text/plain": [
              "Churn              0\n",
              "AccountWeeks       0\n",
              "ContractRenewal    0\n",
              "DataPlan           0\n",
              "DataUsage          0\n",
              "CustServCalls      0\n",
              "DayMins            0\n",
              "DayCalls           0\n",
              "MonthlyCharge      0\n",
              "OverageFee         0\n",
              "RoamMins           0\n",
              "dtype: int64"
            ]
          },
          "metadata": {},
          "execution_count": 4
        }
      ]
    },
    {
      "cell_type": "markdown",
      "source": [
        "###No null values found"
      ],
      "metadata": {
        "id": "SWBfH6DL5_px"
      }
    },
    {
      "cell_type": "markdown",
      "source": [
        "##Exploratory Data Analysis"
      ],
      "metadata": {
        "id": "lh8mGRLm6NPY"
      }
    },
    {
      "cell_type": "markdown",
      "source": [
        "###**Distribution of target column:**"
      ],
      "metadata": {
        "id": "nkE0u1kK6UkB"
      }
    },
    {
      "cell_type": "code",
      "source": [
        "sns.countplot(x='Churn', data=df, palette='inferno')"
      ],
      "metadata": {
        "colab": {
          "base_uri": "https://localhost:8080/",
          "height": 296
        },
        "id": "gRlu5d5m6MZR",
        "outputId": "8dac5ec2-b997-4229-9e2a-36a6708e43bd"
      },
      "execution_count": 5,
      "outputs": [
        {
          "output_type": "execute_result",
          "data": {
            "text/plain": [
              "<matplotlib.axes._subplots.AxesSubplot at 0x7fb4906bc9d0>"
            ]
          },
          "metadata": {},
          "execution_count": 5
        },
        {
          "output_type": "display_data",
          "data": {
            "text/plain": [
              "<Figure size 432x288 with 1 Axes>"
            ],
            "image/png": "[encoded data removed]"
          },
          "metadata": {
            "needs_background": "light"
          }
        }
      ]
    },
    {
      "cell_type": "code",
      "source": [
        "print(df['Churn'].value_counts())"
      ],
      "metadata": {
        "colab": {
          "base_uri": "https://localhost:8080/"
        },
        "id": "ICLJp1SS6feT",
        "outputId": "5e9627cb-87d1-4b51-937f-8beeea35cc5a"
      },
      "execution_count": 6,
      "outputs": [
        {
          "output_type": "stream",
          "name": "stdout",
          "text": [
            "0    2850\n",
            "1     483\n",
            "Name: Churn, dtype: int64\n"
          ]
        }
      ]
    },
    {
      "cell_type": "code",
      "source": [
        "Y = df[\"Churn\"]\n",
        "Y"
      ],
      "metadata": {
        "colab": {
          "base_uri": "https://localhost:8080/"
        },
        "id": "R9rmykI88L15",
        "outputId": "b56c1ed1-6d31-47af-8dbb-f1e618a8f897"
      },
      "execution_count": 7,
      "outputs": [
        {
          "output_type": "execute_result",
          "data": {
            "text/plain": [
              "0       0\n",
              "1       0\n",
              "2       0\n",
              "3       0\n",
              "4       0\n",
              "       ..\n",
              "3328    0\n",
              "3329    0\n",
              "3330    0\n",
              "3331    0\n",
              "3332    0\n",
              "Name: Churn, Length: 3333, dtype: int64"
            ]
          },
          "metadata": {},
          "execution_count": 7
        }
      ]
    },
    {
      "cell_type": "markdown",
      "source": [
        "##Distribution of Categorical Features"
      ],
      "metadata": {
        "id": "hEP6O6BS_Qge"
      }
    },
    {
      "cell_type": "code",
      "source": [
        "cat_cols = ['ContractRenewal','DataPlan']\n",
        "plt.figure(figsize=(15, 5))\n",
        "for n, variable in enumerate(cat_cols):\n",
        "    ax = plt.subplot(1, 2, n + 1)\n",
        "    g=sns.countplot(data=df, x=df[variable], ax=ax, palette='crest')\n",
        "plt.show() "
      ],
      "metadata": {
        "colab": {
          "base_uri": "https://localhost:8080/",
          "height": 334
        },
        "id": "UXX1Jmrj_wh-",
        "outputId": "1e0c44c8-3f46-4b64-be34-d1aa1bd4a176"
      },
      "execution_count": 8,
      "outputs": [
        {
          "output_type": "display_data",
          "data": {
            "text/plain": [
              "<Figure size 1080x360 with 2 Axes>"
            ],
            "image/png": "[encoded data removed]"
          },
          "metadata": {
            "needs_background": "light"
          }
        }
      ]
    },
    {
      "cell_type": "markdown",
      "source": [
        "## Count plots - Target vs Feature variables"
      ],
      "metadata": {
        "id": "uXLzkaAra44h"
      }
    },
    {
      "cell_type": "code",
      "source": [
        "plt.figure(figsize=(50,20)) \n",
        "sns.set(style='white')\n",
        "sns.countplot(x=\"AccountWeeks\",hue=\"Churn\",data=df) \n",
        "plt.xticks(rotation=0,)"
      ],
      "metadata": {
        "colab": {
          "base_uri": "https://localhost:8080/",
          "height": 877
        },
        "id": "Vmtc0VqZS22U",
        "outputId": "35dc74d6-87e8-4af5-c92f-4bb283ffc6ac"
      },
      "execution_count": 9,
      "outputs": [
        {
          "output_type": "execute_result",
          "data": {
            "text/plain": [
              "(array([  0,   1,   2,   3,   4,   5,   6,   7,   8,   9,  10,  11,  12,\n",
              "         13,  14,  15,  16,  17,  18,  19,  20,  21,  22,  23,  24,  25,\n",
              "         26,  27,  28,  29,  30,  31,  32,  33,  34,  35,  36,  37,  38,\n",
              "         39,  40,  41,  42,  43,  44,  45,  46,  47,  48,  49,  50,  51,\n",
              "         52,  53,  54,  55,  56,  57,  58,  59,  60,  61,  62,  63,  64,\n",
              "         65,  66,  67,  68,  69,  70,  71,  72,  73,  74,  75,  76,  77,\n",
              "         78,  79,  80,  81,  82,  83,  84,  85,  86,  87,  88,  89,  90,\n",
              "         91,  92,  93,  94,  95,  96,  97,  98,  99, 100, 101, 102, 103,\n",
              "        104, 105, 106, 107, 108, 109, 110, 111, 112, 113, 114, 115, 116,\n",
              "        117, 118, 119, 120, 121, 122, 123, 124, 125, 126, 127, 128, 129,\n",
              "        130, 131, 132, 133, 134, 135, 136, 137, 138, 139, 140, 141, 142,\n",
              "        143, 144, 145, 146, 147, 148, 149, 150, 151, 152, 153, 154, 155,\n",
              "        156, 157, 158, 159, 160, 161, 162, 163, 164, 165, 166, 167, 168,\n",
              "        169, 170, 171, 172, 173, 174, 175, 176, 177, 178, 179, 180, 181,\n",
              "        182, 183, 184, 185, 186, 187, 188, 189, 190, 191, 192, 193, 194,\n",
              "        195, 196, 197, 198, 199, 200, 201, 202, 203, 204, 205, 206, 207,\n",
              "        208, 209, 210, 211]), <a list of 212 Text major ticklabel objects>)"
            ]
          },
          "metadata": {},
          "execution_count": 9
        },
        {
          "output_type": "display_data",
          "data": {
            "text/plain": [
              "<Figure size 3600x1440 with 1 Axes>"
            ],
            "image/png": "[encoded data removed]"
          },
          "metadata": {
            "needs_background": "light"
          }
        }
      ]
    },
    {
      "cell_type": "markdown",
      "source": [
        "##**From the above plot, if the AccountWeeks are more than 90 i.e. in the range 90-120 AccountWeeks, the Customer Churn is more**"
      ],
      "metadata": {
        "id": "LZFy0nucU4Ni"
      }
    },
    {
      "cell_type": "code",
      "source": [
        "plt.figure(figsize=(50,20)) \n",
        "sns.set(style='white')\n",
        "sns.countplot(x=\"DataUsage\",hue=\"Churn\",data=df)\n",
        "plt.xticks(rotation=90,fontsize = 15)\n",
        "plt.yticks(fontsize = 15) \n",
        "plt.xlabel('DataUsage',fontsize = 15)\n",
        "plt.ylabel('count', fontsize = 15)\n",
        "plt.legend(title = \"Churn\", fontsize = 'xx-large', loc = 'upper right')"
      ],
      "metadata": {
        "colab": {
          "base_uri": "https://localhost:8080/",
          "height": 607
        },
        "id": "2e1mHmkKVRvC",
        "outputId": "a42ee564-b42d-4fc2-8a7e-5f9ffe722808"
      },
      "execution_count": 10,
      "outputs": [
        {
          "output_type": "execute_result",
          "data": {
            "text/plain": [
              "<matplotlib.legend.Legend at 0x7fb48f398090>"
            ]
          },
          "metadata": {},
          "execution_count": 10
        },
        {
          "output_type": "display_data",
          "data": {
            "text/plain": [
              "<Figure size 3600x1440 with 1 Axes>"
            ],
            "image/png": "[encoded data removed]"
          },
          "metadata": {}
        }
      ]
    },
    {
      "cell_type": "markdown",
      "source": [
        "##**From the above plot, if the DataUsage is 0(zero), then Customer Churn is more**"
      ],
      "metadata": {
        "id": "bye_2rHHWQ0t"
      }
    },
    {
      "cell_type": "code",
      "source": [
        "plt.figure(figsize=(50,20)) \n",
        "sns.set(style='white')\n",
        "sns.countplot(x=\"CustServCalls\",hue=\"Churn\",data=df) \n",
        "plt.xticks(rotation=0,fontsize = 15)\n",
        "plt.yticks(fontsize = 15)\n",
        "plt.xlabel('CustServCalls',fontsize = 15)\n",
        "plt.ylabel('count', fontsize = 15)\n",
        "plt.legend(title = \"Churn\", fontsize = 'xx-large', loc = 'upper right')"
      ],
      "metadata": {
        "colab": {
          "base_uri": "https://localhost:8080/",
          "height": 599
        },
        "id": "gvB3mcs1W3bT",
        "outputId": "0e483f12-d9b5-4d2d-f003-ac1c076ab7bc"
      },
      "execution_count": 11,
      "outputs": [
        {
          "output_type": "execute_result",
          "data": {
            "text/plain": [
              "<matplotlib.legend.Legend at 0x7fb48ffd5dd0>"
            ]
          },
          "metadata": {},
          "execution_count": 11
        },
        {
          "output_type": "display_data",
          "data": {
            "text/plain": [
              "<Figure size 3600x1440 with 1 Axes>"
            ],
            "image/png": "[encoded data removed]"
          },
          "metadata": {}
        }
      ]
    },
    {
      "cell_type": "markdown",
      "source": [
        "##**From the above graph, if the CustServCalls are more than 3, then Churn is more**"
      ],
      "metadata": {
        "id": "xkPsbCLYW03R"
      }
    },
    {
      "cell_type": "code",
      "source": [
        "plt.figure(figsize=(50,20)) \n",
        "sns.set(style='white')\n",
        "sns.countplot(x=\"DayCalls\",hue=\"Churn\",data=df) \n",
        "plt.xticks(rotation=45,fontsize = 15)\n",
        "plt.yticks(fontsize = 15)\n",
        "plt.xlabel('DayCalls',fontsize = 15)\n",
        "plt.ylabel('count', fontsize = 15)\n",
        "plt.legend(title = \"Churn\", fontsize = 'xx-large', loc = 'upper right')"
      ],
      "metadata": {
        "colab": {
          "base_uri": "https://localhost:8080/",
          "height": 609
        },
        "id": "ieSU-iGebANL",
        "outputId": "d0244036-ae67-4923-c247-82eafccf5785"
      },
      "execution_count": 12,
      "outputs": [
        {
          "output_type": "execute_result",
          "data": {
            "text/plain": [
              "<matplotlib.legend.Legend at 0x7fb48daa20d0>"
            ]
          },
          "metadata": {},
          "execution_count": 12
        },
        {
          "output_type": "display_data",
          "data": {
            "text/plain": [
              "<Figure size 3600x1440 with 1 Axes>"
            ],
            "image/png": "[encoded data removed]"
          },
          "metadata": {}
        }
      ]
    },
    {
      "cell_type": "markdown",
      "source": [
        "##**From the above plot, if the DayCalls are more than 80 i.e. in the range 80-120 DayCalls, the Customer Churn is more**"
      ],
      "metadata": {
        "id": "Z_nzVnQDb4ST"
      }
    },
    {
      "cell_type": "code",
      "source": [
        "X = df.drop(['Churn'],axis = 1)"
      ],
      "metadata": {
        "id": "Rs8ugh399GnG"
      },
      "execution_count": 13,
      "outputs": []
    },
    {
      "cell_type": "markdown",
      "source": [
        "##Distribution of numerical features - Histogram"
      ],
      "metadata": {
        "id": "Vnjheirp7brY"
      }
    },
    {
      "cell_type": "code",
      "source": [
        "X.hist(column = [\"AccountWeeks\",\"DataUsage\",\"CustServCalls\",\"DayMins\",\"DayCalls\",\"MonthlyCharge\",\"OverageFee\",\"RoamMins\"],figsize = (20,10))"
      ],
      "metadata": {
        "colab": {
          "base_uri": "https://localhost:8080/",
          "height": 784
        },
        "id": "7JlQOT_47KHD",
        "outputId": "f6d60a95-1a06-4295-8ba7-1462ad621c37"
      },
      "execution_count": 14,
      "outputs": [
        {
          "output_type": "execute_result",
          "data": {
            "text/plain": [
              "array([[<matplotlib.axes._subplots.AxesSubplot object at 0x7fb48d62ea10>,\n",
              "        <matplotlib.axes._subplots.AxesSubplot object at 0x7fb48d645150>,\n",
              "        <matplotlib.axes._subplots.AxesSubplot object at 0x7fb48d5f9750>],\n",
              "       [<matplotlib.axes._subplots.AxesSubplot object at 0x7fb48d5afd50>,\n",
              "        <matplotlib.axes._subplots.AxesSubplot object at 0x7fb48d570390>,\n",
              "        <matplotlib.axes._subplots.AxesSubplot object at 0x7fb48d527990>],\n",
              "       [<matplotlib.axes._subplots.AxesSubplot object at 0x7fb48d55ef90>,\n",
              "        <matplotlib.axes._subplots.AxesSubplot object at 0x7fb48d5215d0>,\n",
              "        <matplotlib.axes._subplots.AxesSubplot object at 0x7fb48d4ac4d0>]],\n",
              "      dtype=object)"
            ]
          },
          "metadata": {},
          "execution_count": 14
        },
        {
          "output_type": "display_data",
          "data": {
            "text/plain": [
              "<Figure size 1440x720 with 9 Axes>"
            ],
            "image/png": "[encoded data removed]"
          },
          "metadata": {}
        }
      ]
    },
    {
      "cell_type": "markdown",
      "source": [
        "## Converting Imbalanced Data to Balanced Data using SMOTE"
      ],
      "metadata": {
        "id": "Yc0WDuSqZv8n"
      }
    },
    {
      "cell_type": "code",
      "source": [
        "from imblearn.over_sampling import SMOTE"
      ],
      "metadata": {
        "id": "34OIkjgNGsoP"
      },
      "execution_count": 15,
      "outputs": []
    },
    {
      "cell_type": "code",
      "source": [
        "sm = SMOTE(random_state = 0, sampling_strategy = 'minority', k_neighbors= 5)\n",
        "X, Y = sm.fit_resample(X, Y.ravel())"
      ],
      "metadata": {
        "id": "H4qix6hvGhRn"
      },
      "execution_count": 16,
      "outputs": []
    },
    {
      "cell_type": "code",
      "source": [
        "print('Original unbalanced dataset shape', len(df))\n",
        "print('Resampled balanced dataset shape', len(Y))"
      ],
      "metadata": {
        "colab": {
          "base_uri": "https://localhost:8080/"
        },
        "id": "10zcI0om6mnJ",
        "outputId": "1408cede-c78e-43ee-97b4-c9935f873cfd"
      },
      "execution_count": 17,
      "outputs": [
        {
          "output_type": "stream",
          "name": "stdout",
          "text": [
            "Original unbalanced dataset shape 3333\n",
            "Resampled balanced dataset shape 5700\n"
          ]
        }
      ]
    },
    {
      "cell_type": "code",
      "source": [
        "balanced_df = pd.DataFrame(X, columns=list(i for i in list(df.describe(include='all').columns) if i != 'Churn'))\n",
        "\n",
        "balanced_df['Churn'] = Y"
      ],
      "metadata": {
        "id": "wb6Y7Wmf92TR"
      },
      "execution_count": 18,
      "outputs": []
    },
    {
      "cell_type": "code",
      "source": [
        "balanced_df"
      ],
      "metadata": {
        "colab": {
          "base_uri": "https://localhost:8080/",
          "height": 424
        },
        "id": "pDsHNmgZ-K8X",
        "outputId": "d033373d-a3f6-482b-d155-1ae5b5077e9b"
      },
      "execution_count": 19,
      "outputs": [
        {
          "output_type": "execute_result",
          "data": {
            "text/plain": [
              "      AccountWeeks  ContractRenewal  DataPlan  DataUsage  CustServCalls  \\\n",
              "0              128                1         1   2.700000              1   \n",
              "1              107                1         1   3.700000              1   \n",
              "2              137                1         0   0.000000              0   \n",
              "3               84                0         0   0.000000              2   \n",
              "4               75                0         0   0.000000              3   \n",
              "...            ...              ...       ...        ...            ...   \n",
              "5695           120                1         0   1.020344              2   \n",
              "5696           126                0         0   0.000000              2   \n",
              "5697             2                0         0   0.258460              1   \n",
              "5698           115                0         0   0.149981              3   \n",
              "5699            98                1         0   0.314534              3   \n",
              "\n",
              "         DayMins  DayCalls  MonthlyCharge  OverageFee   RoamMins  Churn  \n",
              "0     265.100000       110      89.000000    9.870000  10.000000      0  \n",
              "1     161.600000       123      82.000000    9.780000  13.700000      0  \n",
              "2     243.400000       114      52.000000    6.060000  12.200000      0  \n",
              "3     299.400000        71      57.000000    3.100000   6.600000      0  \n",
              "4     166.700000       113      41.000000    7.420000  10.100000      0  \n",
              "...          ...       ...            ...         ...        ...    ...  \n",
              "5695  203.196365       129      55.754731    6.115668   5.624950      1  \n",
              "5696  245.412689        99      62.690889   12.066673  13.392733      1  \n",
              "5697  131.287959        43      37.541866    7.013681   9.005974      1  \n",
              "5698  120.615558       116      42.268947   11.571468  11.876789      1  \n",
              "5699  223.499345       117      57.237171    9.354241   7.500510      1  \n",
              "\n",
              "[5700 rows x 11 columns]"
            ],
            "text/html": [
              "\n",
              "  <div id=\"df-6621d92a-941f-4318-be98-de6955ac611c\">\n",
              "    <div class=\"colab-df-container\">\n",
              "      <div>\n",
              "<style scoped>\n",
              "    .dataframe tbody tr th:only-of-type {\n",
              "        vertical-align: middle;\n",
              "    }\n",
              "\n",
              "    .dataframe tbody tr th {\n",
              "        vertical-align: top;\n",
              "    }\n",
              "\n",
              "    .dataframe thead th {\n",
              "        text-align: right;\n",
              "    }\n",
              "</style>\n",
              "<table border=\"1\" class=\"dataframe\">\n",
              "  <thead>\n",
              "    <tr style=\"text-align: right;\">\n",
              "      <th></th>\n",
              "      <th>AccountWeeks</th>\n",
              "      <th>ContractRenewal</th>\n",
              "      <th>DataPlan</th>\n",
              "      <th>DataUsage</th>\n",
              "      <th>CustServCalls</th>\n",
              "      <th>DayMins</th>\n",
              "      <th>DayCalls</th>\n",
              "      <th>MonthlyCharge</th>\n",
              "      <th>OverageFee</th>\n",
              "      <th>RoamMins</th>\n",
              "      <th>Churn</th>\n",
              "    </tr>\n",
              "  </thead>\n",
              "  <tbody>\n",
              "    <tr>\n",
              "      <th>0</th>\n",
              "      <td>128</td>\n",
              "      <td>1</td>\n",
              "      <td>1</td>\n",
              "      <td>2.700000</td>\n",
              "      <td>1</td>\n",
              "      <td>265.100000</td>\n",
              "      <td>110</td>\n",
              "      <td>89.000000</td>\n",
              "      <td>9.870000</td>\n",
              "      <td>10.000000</td>\n",
              "      <td>0</td>\n",
              "    </tr>\n",
              "    <tr>\n",
              "      <th>1</th>\n",
              "      <td>107</td>\n",
              "      <td>1</td>\n",
              "      <td>1</td>\n",
              "      <td>3.700000</td>\n",
              "      <td>1</td>\n",
              "      <td>161.600000</td>\n",
              "      <td>123</td>\n",
              "      <td>82.000000</td>\n",
              "      <td>9.780000</td>\n",
              "      <td>13.700000</td>\n",
              "      <td>0</td>\n",
              "    </tr>\n",
              "    <tr>\n",
              "      <th>2</th>\n",
              "      <td>137</td>\n",
              "      <td>1</td>\n",
              "      <td>0</td>\n",
              "      <td>0.000000</td>\n",
              "      <td>0</td>\n",
              "      <td>243.400000</td>\n",
              "      <td>114</td>\n",
              "      <td>52.000000</td>\n",
              "      <td>6.060000</td>\n",
              "      <td>12.200000</td>\n",
              "      <td>0</td>\n",
              "    </tr>\n",
              "    <tr>\n",
              "      <th>3</th>\n",
              "      <td>84</td>\n",
              "      <td>0</td>\n",
              "      <td>0</td>\n",
              "      <td>0.000000</td>\n",
              "      <td>2</td>\n",
              "      <td>299.400000</td>\n",
              "      <td>71</td>\n",
              "      <td>57.000000</td>\n",
              "      <td>3.100000</td>\n",
              "      <td>6.600000</td>\n",
              "      <td>0</td>\n",
              "    </tr>\n",
              "    <tr>\n",
              "      <th>4</th>\n",
              "      <td>75</td>\n",
              "      <td>0</td>\n",
              "      <td>0</td>\n",
              "      <td>0.000000</td>\n",
              "      <td>3</td>\n",
              "      <td>166.700000</td>\n",
              "      <td>113</td>\n",
              "      <td>41.000000</td>\n",
              "      <td>7.420000</td>\n",
              "      <td>10.100000</td>\n",
              "      <td>0</td>\n",
              "    </tr>\n",
              "    <tr>\n",
              "      <th>...</th>\n",
              "      <td>...</td>\n",
              "      <td>...</td>\n",
              "      <td>...</td>\n",
              "      <td>...</td>\n",
              "      <td>...</td>\n",
              "      <td>...</td>\n",
              "      <td>...</td>\n",
              "      <td>...</td>\n",
              "      <td>...</td>\n",
              "      <td>...</td>\n",
              "      <td>...</td>\n",
              "    </tr>\n",
              "    <tr>\n",
              "      <th>5695</th>\n",
              "      <td>120</td>\n",
              "      <td>1</td>\n",
              "      <td>0</td>\n",
              "      <td>1.020344</td>\n",
              "      <td>2</td>\n",
              "      <td>203.196365</td>\n",
              "      <td>129</td>\n",
              "      <td>55.754731</td>\n",
              "      <td>6.115668</td>\n",
              "      <td>5.624950</td>\n",
              "      <td>1</td>\n",
              "    </tr>\n",
              "    <tr>\n",
              "      <th>5696</th>\n",
              "      <td>126</td>\n",
              "      <td>0</td>\n",
              "      <td>0</td>\n",
              "      <td>0.000000</td>\n",
              "      <td>2</td>\n",
              "      <td>245.412689</td>\n",
              "      <td>99</td>\n",
              "      <td>62.690889</td>\n",
              "      <td>12.066673</td>\n",
              "      <td>13.392733</td>\n",
              "      <td>1</td>\n",
              "    </tr>\n",
              "    <tr>\n",
              "      <th>5697</th>\n",
              "      <td>2</td>\n",
              "      <td>0</td>\n",
              "      <td>0</td>\n",
              "      <td>0.258460</td>\n",
              "      <td>1</td>\n",
              "      <td>131.287959</td>\n",
              "      <td>43</td>\n",
              "      <td>37.541866</td>\n",
              "      <td>7.013681</td>\n",
              "      <td>9.005974</td>\n",
              "      <td>1</td>\n",
              "    </tr>\n",
              "    <tr>\n",
              "      <th>5698</th>\n",
              "      <td>115</td>\n",
              "      <td>0</td>\n",
              "      <td>0</td>\n",
              "      <td>0.149981</td>\n",
              "      <td>3</td>\n",
              "      <td>120.615558</td>\n",
              "      <td>116</td>\n",
              "      <td>42.268947</td>\n",
              "      <td>11.571468</td>\n",
              "      <td>11.876789</td>\n",
              "      <td>1</td>\n",
              "    </tr>\n",
              "    <tr>\n",
              "      <th>5699</th>\n",
              "      <td>98</td>\n",
              "      <td>1</td>\n",
              "      <td>0</td>\n",
              "      <td>0.314534</td>\n",
              "      <td>3</td>\n",
              "      <td>223.499345</td>\n",
              "      <td>117</td>\n",
              "      <td>57.237171</td>\n",
              "      <td>9.354241</td>\n",
              "      <td>7.500510</td>\n",
              "      <td>1</td>\n",
              "    </tr>\n",
              "  </tbody>\n",
              "</table>\n",
              "<p>5700 rows × 11 columns</p>\n",
              "</div>\n",
              "      <button class=\"colab-df-convert\" onclick=\"convertToInteractive('df-6621d92a-941f-4318-be98-de6955ac611c')\"\n",
              "              title=\"Convert this dataframe to an interactive table.\"\n",
              "              style=\"display:none;\">\n",
              "        \n",
              "  <svg xmlns=\"http://www.w3.org/2000/svg\" height=\"24px\"viewBox=\"0 0 24 24\"\n",
              "       width=\"24px\">\n",
              "    <path d=\"M0 0h24v24H0V0z\" fill=\"none\"/>\n",
              "    <path d=\"M18.56 5.44l.94 2.06.94-2.06 2.06-.94-2.06-.94-.94-2.06-.94 2.06-2.06.94zm-11 1L8.5 8.5l.94-2.06 2.06-.94-2.06-.94L8.5 2.5l-.94 2.06-2.06.94zm10 10l.94 2.06.94-2.06 2.06-.94-2.06-.94-.94-2.06-.94 2.06-2.06.94z\"/><path d=\"M17.41 7.96l-1.37-1.37c-.4-.4-.92-.59-1.43-.59-.52 0-1.04.2-1.43.59L10.3 9.45l-7.72 7.72c-.78.78-.78 2.05 0 2.83L4 21.41c.39.39.9.59 1.41.59.51 0 1.02-.2 1.41-.59l7.78-7.78 2.81-2.81c.8-.78.8-2.07 0-2.86zM5.41 20L4 18.59l7.72-7.72 1.47 1.35L5.41 20z\"/>\n",
              "  </svg>\n",
              "      </button>\n",
              "      \n",
              "  <style>\n",
              "    .colab-df-container {\n",
              "      display:flex;\n",
              "      flex-wrap:wrap;\n",
              "      gap: 12px;\n",
              "    }\n",
              "\n",
              "    .colab-df-convert {\n",
              "      background-color: #E8F0FE;\n",
              "      border: none;\n",
              "      border-radius: 50%;\n",
              "      cursor: pointer;\n",
              "      display: none;\n",
              "      fill: #1967D2;\n",
              "      height: 32px;\n",
              "      padding: 0 0 0 0;\n",
              "      width: 32px;\n",
              "    }\n",
              "\n",
              "    .colab-df-convert:hover {\n",
              "      background-color: #E2EBFA;\n",
              "      box-shadow: 0px 1px 2px rgba(60, 64, 67, 0.3), 0px 1px 3px 1px rgba(60, 64, 67, 0.15);\n",
              "      fill: #174EA6;\n",
              "    }\n",
              "\n",
              "    [theme=dark] .colab-df-convert {\n",
              "      background-color: #3B4455;\n",
              "      fill: #D2E3FC;\n",
              "    }\n",
              "\n",
              "    [theme=dark] .colab-df-convert:hover {\n",
              "      background-color: #434B5C;\n",
              "      box-shadow: 0px 1px 3px 1px rgba(0, 0, 0, 0.15);\n",
              "      filter: drop-shadow(0px 1px 2px rgba(0, 0, 0, 0.3));\n",
              "      fill: #FFFFFF;\n",
              "    }\n",
              "  </style>\n",
              "\n",
              "      <script>\n",
              "        const buttonEl =\n",
              "          document.querySelector('#df-6621d92a-941f-4318-be98-de6955ac611c button.colab-df-convert');\n",
              "        buttonEl.style.display =\n",
              "          google.colab.kernel.accessAllowed ? 'block' : 'none';\n",
              "\n",
              "        async function convertToInteractive(key) {\n",
              "          const element = document.querySelector('#df-6621d92a-941f-4318-be98-de6955ac611c');\n",
              "          const dataTable =\n",
              "            await google.colab.kernel.invokeFunction('convertToInteractive',\n",
              "                                                     [key], {});\n",
              "          if (!dataTable) return;\n",
              "\n",
              "          const docLinkHtml = 'Like what you see? Visit the ' +\n",
              "            '<a target=\"_blank\" href=https://colab.research.google.com/notebooks/data_table.ipynb>data table notebook</a>'\n",
              "            + ' to learn more about interactive tables.';\n",
              "          element.innerHTML = '';\n",
              "          dataTable['output_type'] = 'display_data';\n",
              "          await google.colab.output.renderOutput(dataTable, element);\n",
              "          const docLink = document.createElement('div');\n",
              "          docLink.innerHTML = docLinkHtml;\n",
              "          element.appendChild(docLink);\n",
              "        }\n",
              "      </script>\n",
              "    </div>\n",
              "  </div>\n",
              "  "
            ]
          },
          "metadata": {},
          "execution_count": 19
        }
      ]
    },
    {
      "cell_type": "code",
      "source": [
        "plt.figure(figsize=(5,5))\n",
        "sns.countplot('Churn', data = balanced_df)"
      ],
      "metadata": {
        "colab": {
          "base_uri": "https://localhost:8080/",
          "height": 411
        },
        "id": "wZnMUovP-g2p",
        "outputId": "5f221a1f-2214-40c2-c71c-e814b686be79"
      },
      "execution_count": 20,
      "outputs": [
        {
          "output_type": "stream",
          "name": "stderr",
          "text": [
            "/usr/local/lib/python3.7/dist-packages/seaborn/_decorators.py:43: FutureWarning: Pass the following variable as a keyword arg: x. From version 0.12, the only valid positional argument will be `data`, and passing other arguments without an explicit keyword will result in an error or misinterpretation.\n",
            "  FutureWarning\n"
          ]
        },
        {
          "output_type": "execute_result",
          "data": {
            "text/plain": [
              "<matplotlib.axes._subplots.AxesSubplot at 0x7fb48c4f21d0>"
            ]
          },
          "metadata": {},
          "execution_count": 20
        },
        {
          "output_type": "display_data",
          "data": {
            "text/plain": [
              "<Figure size 360x360 with 1 Axes>"
            ],
            "image/png": "[encoded data removed]"
          },
          "metadata": {}
        }
      ]
    },
    {
      "cell_type": "code",
      "source": [
        "balanced_df['Churn'].value_counts()"
      ],
      "metadata": {
        "colab": {
          "base_uri": "https://localhost:8080/"
        },
        "id": "2u4vUVnB-pnm",
        "outputId": "524195ef-2035-4fe9-be24-d8e130b717fe"
      },
      "execution_count": 21,
      "outputs": [
        {
          "output_type": "execute_result",
          "data": {
            "text/plain": [
              "0    2850\n",
              "1    2850\n",
              "Name: Churn, dtype: int64"
            ]
          },
          "metadata": {},
          "execution_count": 21
        }
      ]
    },
    {
      "cell_type": "markdown",
      "source": [
        "##Feature Importance"
      ],
      "metadata": {
        "id": "MmN00Iyi-25w"
      }
    },
    {
      "cell_type": "code",
      "source": [
        "Y1 = balanced_df['Churn']"
      ],
      "metadata": {
        "id": "J3ndPIQC-01S"
      },
      "execution_count": 22,
      "outputs": []
    },
    {
      "cell_type": "code",
      "source": [
        "X1 = balanced_df.drop(['Churn'],axis=1)\n",
        "X1.columns"
      ],
      "metadata": {
        "colab": {
          "base_uri": "https://localhost:8080/"
        },
        "id": "qXCHrLFz-_oP",
        "outputId": "dbc793f4-5100-4e4c-930d-4ba9d4a86658"
      },
      "execution_count": 23,
      "outputs": [
        {
          "output_type": "execute_result",
          "data": {
            "text/plain": [
              "Index(['AccountWeeks', 'ContractRenewal', 'DataPlan', 'DataUsage',\n",
              "       'CustServCalls', 'DayMins', 'DayCalls', 'MonthlyCharge', 'OverageFee',\n",
              "       'RoamMins'],\n",
              "      dtype='object')"
            ]
          },
          "metadata": {},
          "execution_count": 23
        }
      ]
    },
    {
      "cell_type": "code",
      "source": [
        "from sklearn.ensemble import RandomForestClassifier\n",
        "clf = RandomForestClassifier()\n",
        "clf.fit(X1,Y1) \n",
        "feature_imp = pd.DataFrame(clf.feature_importances_,index=X.columns)\n",
        "feature_imp.sort_values(by = 0 , ascending = False)"
      ],
      "metadata": {
        "colab": {
          "base_uri": "https://localhost:8080/",
          "height": 363
        },
        "id": "9hsodhV4_Fr4",
        "outputId": "a87a24d1-3694-46f7-a1f9-6a98c3be6f4d"
      },
      "execution_count": 24,
      "outputs": [
        {
          "output_type": "execute_result",
          "data": {
            "text/plain": [
              "                        0\n",
              "ContractRenewal  0.193216\n",
              "MonthlyCharge    0.168463\n",
              "DayMins          0.151692\n",
              "CustServCalls    0.118123\n",
              "OverageFee       0.070463\n",
              "DataUsage        0.067524\n",
              "DayCalls         0.059868\n",
              "RoamMins         0.058984\n",
              "AccountWeeks     0.056591\n",
              "DataPlan         0.055075"
            ],
            "text/html": [
              "\n",
              "  <div id=\"df-2597392d-9e9b-4fcf-91d5-77eb18a55bcf\">\n",
              "    <div class=\"colab-df-container\">\n",
              "      <div>\n",
              "<style scoped>\n",
              "    .dataframe tbody tr th:only-of-type {\n",
              "        vertical-align: middle;\n",
              "    }\n",
              "\n",
              "    .dataframe tbody tr th {\n",
              "        vertical-align: top;\n",
              "    }\n",
              "\n",
              "    .dataframe thead th {\n",
              "        text-align: right;\n",
              "    }\n",
              "</style>\n",
              "<table border=\"1\" class=\"dataframe\">\n",
              "  <thead>\n",
              "    <tr style=\"text-align: right;\">\n",
              "      <th></th>\n",
              "      <th>0</th>\n",
              "    </tr>\n",
              "  </thead>\n",
              "  <tbody>\n",
              "    <tr>\n",
              "      <th>ContractRenewal</th>\n",
              "      <td>0.193216</td>\n",
              "    </tr>\n",
              "    <tr>\n",
              "      <th>MonthlyCharge</th>\n",
              "      <td>0.168463</td>\n",
              "    </tr>\n",
              "    <tr>\n",
              "      <th>DayMins</th>\n",
              "      <td>0.151692</td>\n",
              "    </tr>\n",
              "    <tr>\n",
              "      <th>CustServCalls</th>\n",
              "      <td>0.118123</td>\n",
              "    </tr>\n",
              "    <tr>\n",
              "      <th>OverageFee</th>\n",
              "      <td>0.070463</td>\n",
              "    </tr>\n",
              "    <tr>\n",
              "      <th>DataUsage</th>\n",
              "      <td>0.067524</td>\n",
              "    </tr>\n",
              "    <tr>\n",
              "      <th>DayCalls</th>\n",
              "      <td>0.059868</td>\n",
              "    </tr>\n",
              "    <tr>\n",
              "      <th>RoamMins</th>\n",
              "      <td>0.058984</td>\n",
              "    </tr>\n",
              "    <tr>\n",
              "      <th>AccountWeeks</th>\n",
              "      <td>0.056591</td>\n",
              "    </tr>\n",
              "    <tr>\n",
              "      <th>DataPlan</th>\n",
              "      <td>0.055075</td>\n",
              "    </tr>\n",
              "  </tbody>\n",
              "</table>\n",
              "</div>\n",
              "      <button class=\"colab-df-convert\" onclick=\"convertToInteractive('df-2597392d-9e9b-4fcf-91d5-77eb18a55bcf')\"\n",
              "              title=\"Convert this dataframe to an interactive table.\"\n",
              "              style=\"display:none;\">\n",
              "        \n",
              "  <svg xmlns=\"http://www.w3.org/2000/svg\" height=\"24px\"viewBox=\"0 0 24 24\"\n",
              "       width=\"24px\">\n",
              "    <path d=\"M0 0h24v24H0V0z\" fill=\"none\"/>\n",
              "    <path d=\"M18.56 5.44l.94 2.06.94-2.06 2.06-.94-2.06-.94-.94-2.06-.94 2.06-2.06.94zm-11 1L8.5 8.5l.94-2.06 2.06-.94-2.06-.94L8.5 2.5l-.94 2.06-2.06.94zm10 10l.94 2.06.94-2.06 2.06-.94-2.06-.94-.94-2.06-.94 2.06-2.06.94z\"/><path d=\"M17.41 7.96l-1.37-1.37c-.4-.4-.92-.59-1.43-.59-.52 0-1.04.2-1.43.59L10.3 9.45l-7.72 7.72c-.78.78-.78 2.05 0 2.83L4 21.41c.39.39.9.59 1.41.59.51 0 1.02-.2 1.41-.59l7.78-7.78 2.81-2.81c.8-.78.8-2.07 0-2.86zM5.41 20L4 18.59l7.72-7.72 1.47 1.35L5.41 20z\"/>\n",
              "  </svg>\n",
              "      </button>\n",
              "      \n",
              "  <style>\n",
              "    .colab-df-container {\n",
              "      display:flex;\n",
              "      flex-wrap:wrap;\n",
              "      gap: 12px;\n",
              "    }\n",
              "\n",
              "    .colab-df-convert {\n",
              "      background-color: #E8F0FE;\n",
              "      border: none;\n",
              "      border-radius: 50%;\n",
              "      cursor: pointer;\n",
              "      display: none;\n",
              "      fill: #1967D2;\n",
              "      height: 32px;\n",
              "      padding: 0 0 0 0;\n",
              "      width: 32px;\n",
              "    }\n",
              "\n",
              "    .colab-df-convert:hover {\n",
              "      background-color: #E2EBFA;\n",
              "      box-shadow: 0px 1px 2px rgba(60, 64, 67, 0.3), 0px 1px 3px 1px rgba(60, 64, 67, 0.15);\n",
              "      fill: #174EA6;\n",
              "    }\n",
              "\n",
              "    [theme=dark] .colab-df-convert {\n",
              "      background-color: #3B4455;\n",
              "      fill: #D2E3FC;\n",
              "    }\n",
              "\n",
              "    [theme=dark] .colab-df-convert:hover {\n",
              "      background-color: #434B5C;\n",
              "      box-shadow: 0px 1px 3px 1px rgba(0, 0, 0, 0.15);\n",
              "      filter: drop-shadow(0px 1px 2px rgba(0, 0, 0, 0.3));\n",
              "      fill: #FFFFFF;\n",
              "    }\n",
              "  </style>\n",
              "\n",
              "      <script>\n",
              "        const buttonEl =\n",
              "          document.querySelector('#df-2597392d-9e9b-4fcf-91d5-77eb18a55bcf button.colab-df-convert');\n",
              "        buttonEl.style.display =\n",
              "          google.colab.kernel.accessAllowed ? 'block' : 'none';\n",
              "\n",
              "        async function convertToInteractive(key) {\n",
              "          const element = document.querySelector('#df-2597392d-9e9b-4fcf-91d5-77eb18a55bcf');\n",
              "          const dataTable =\n",
              "            await google.colab.kernel.invokeFunction('convertToInteractive',\n",
              "                                                     [key], {});\n",
              "          if (!dataTable) return;\n",
              "\n",
              "          const docLinkHtml = 'Like what you see? Visit the ' +\n",
              "            '<a target=\"_blank\" href=https://colab.research.google.com/notebooks/data_table.ipynb>data table notebook</a>'\n",
              "            + ' to learn more about interactive tables.';\n",
              "          element.innerHTML = '';\n",
              "          dataTable['output_type'] = 'display_data';\n",
              "          await google.colab.output.renderOutput(dataTable, element);\n",
              "          const docLink = document.createElement('div');\n",
              "          docLink.innerHTML = docLinkHtml;\n",
              "          element.appendChild(docLink);\n",
              "        }\n",
              "      </script>\n",
              "    </div>\n",
              "  </div>\n",
              "  "
            ]
          },
          "metadata": {},
          "execution_count": 24
        }
      ]
    },
    {
      "cell_type": "markdown",
      "source": [
        "##From above, we can see that \"ContractRenewal\", \"DayMins\", \"MonthlyCharge\" and \"CustServCalls\" are most important features in determining Customer Churn"
      ],
      "metadata": {
        "id": "VzmSldQWZ8-F"
      }
    },
    {
      "cell_type": "code",
      "source": [
        "X1"
      ],
      "metadata": {
        "colab": {
          "base_uri": "https://localhost:8080/",
          "height": 424
        },
        "id": "-8r1hpZH_aT4",
        "outputId": "926a7368-cae3-4ea7-fbc1-2409cb303668"
      },
      "execution_count": 25,
      "outputs": [
        {
          "output_type": "execute_result",
          "data": {
            "text/plain": [
              "      AccountWeeks  ContractRenewal  DataPlan  DataUsage  CustServCalls  \\\n",
              "0              128                1         1   2.700000              1   \n",
              "1              107                1         1   3.700000              1   \n",
              "2              137                1         0   0.000000              0   \n",
              "3               84                0         0   0.000000              2   \n",
              "4               75                0         0   0.000000              3   \n",
              "...            ...              ...       ...        ...            ...   \n",
              "5695           120                1         0   1.020344              2   \n",
              "5696           126                0         0   0.000000              2   \n",
              "5697             2                0         0   0.258460              1   \n",
              "5698           115                0         0   0.149981              3   \n",
              "5699            98                1         0   0.314534              3   \n",
              "\n",
              "         DayMins  DayCalls  MonthlyCharge  OverageFee   RoamMins  \n",
              "0     265.100000       110      89.000000    9.870000  10.000000  \n",
              "1     161.600000       123      82.000000    9.780000  13.700000  \n",
              "2     243.400000       114      52.000000    6.060000  12.200000  \n",
              "3     299.400000        71      57.000000    3.100000   6.600000  \n",
              "4     166.700000       113      41.000000    7.420000  10.100000  \n",
              "...          ...       ...            ...         ...        ...  \n",
              "5695  203.196365       129      55.754731    6.115668   5.624950  \n",
              "5696  245.412689        99      62.690889   12.066673  13.392733  \n",
              "5697  131.287959        43      37.541866    7.013681   9.005974  \n",
              "5698  120.615558       116      42.268947   11.571468  11.876789  \n",
              "5699  223.499345       117      57.237171    9.354241   7.500510  \n",
              "\n",
              "[5700 rows x 10 columns]"
            ],
            "text/html": [
              "\n",
              "  <div id=\"df-aa3a81e9-0609-4696-acd2-694458640a6d\">\n",
              "    <div class=\"colab-df-container\">\n",
              "      <div>\n",
              "<style scoped>\n",
              "    .dataframe tbody tr th:only-of-type {\n",
              "        vertical-align: middle;\n",
              "    }\n",
              "\n",
              "    .dataframe tbody tr th {\n",
              "        vertical-align: top;\n",
              "    }\n",
              "\n",
              "    .dataframe thead th {\n",
              "        text-align: right;\n",
              "    }\n",
              "</style>\n",
              "<table border=\"1\" class=\"dataframe\">\n",
              "  <thead>\n",
              "    <tr style=\"text-align: right;\">\n",
              "      <th></th>\n",
              "      <th>AccountWeeks</th>\n",
              "      <th>ContractRenewal</th>\n",
              "      <th>DataPlan</th>\n",
              "      <th>DataUsage</th>\n",
              "      <th>CustServCalls</th>\n",
              "      <th>DayMins</th>\n",
              "      <th>DayCalls</th>\n",
              "      <th>MonthlyCharge</th>\n",
              "      <th>OverageFee</th>\n",
              "      <th>RoamMins</th>\n",
              "    </tr>\n",
              "  </thead>\n",
              "  <tbody>\n",
              "    <tr>\n",
              "      <th>0</th>\n",
              "      <td>128</td>\n",
              "      <td>1</td>\n",
              "      <td>1</td>\n",
              "      <td>2.700000</td>\n",
              "      <td>1</td>\n",
              "      <td>265.100000</td>\n",
              "      <td>110</td>\n",
              "      <td>89.000000</td>\n",
              "      <td>9.870000</td>\n",
              "      <td>10.000000</td>\n",
              "    </tr>\n",
              "    <tr>\n",
              "      <th>1</th>\n",
              "      <td>107</td>\n",
              "      <td>1</td>\n",
              "      <td>1</td>\n",
              "      <td>3.700000</td>\n",
              "      <td>1</td>\n",
              "      <td>161.600000</td>\n",
              "      <td>123</td>\n",
              "      <td>82.000000</td>\n",
              "      <td>9.780000</td>\n",
              "      <td>13.700000</td>\n",
              "    </tr>\n",
              "    <tr>\n",
              "      <th>2</th>\n",
              "      <td>137</td>\n",
              "      <td>1</td>\n",
              "      <td>0</td>\n",
              "      <td>0.000000</td>\n",
              "      <td>0</td>\n",
              "      <td>243.400000</td>\n",
              "      <td>114</td>\n",
              "      <td>52.000000</td>\n",
              "      <td>6.060000</td>\n",
              "      <td>12.200000</td>\n",
              "    </tr>\n",
              "    <tr>\n",
              "      <th>3</th>\n",
              "      <td>84</td>\n",
              "      <td>0</td>\n",
              "      <td>0</td>\n",
              "      <td>0.000000</td>\n",
              "      <td>2</td>\n",
              "      <td>299.400000</td>\n",
              "      <td>71</td>\n",
              "      <td>57.000000</td>\n",
              "      <td>3.100000</td>\n",
              "      <td>6.600000</td>\n",
              "    </tr>\n",
              "    <tr>\n",
              "      <th>4</th>\n",
              "      <td>75</td>\n",
              "      <td>0</td>\n",
              "      <td>0</td>\n",
              "      <td>0.000000</td>\n",
              "      <td>3</td>\n",
              "      <td>166.700000</td>\n",
              "      <td>113</td>\n",
              "      <td>41.000000</td>\n",
              "      <td>7.420000</td>\n",
              "      <td>10.100000</td>\n",
              "    </tr>\n",
              "    <tr>\n",
              "      <th>...</th>\n",
              "      <td>...</td>\n",
              "      <td>...</td>\n",
              "      <td>...</td>\n",
              "      <td>...</td>\n",
              "      <td>...</td>\n",
              "      <td>...</td>\n",
              "      <td>...</td>\n",
              "      <td>...</td>\n",
              "      <td>...</td>\n",
              "      <td>...</td>\n",
              "    </tr>\n",
              "    <tr>\n",
              "      <th>5695</th>\n",
              "      <td>120</td>\n",
              "      <td>1</td>\n",
              "      <td>0</td>\n",
              "      <td>1.020344</td>\n",
              "      <td>2</td>\n",
              "      <td>203.196365</td>\n",
              "      <td>129</td>\n",
              "      <td>55.754731</td>\n",
              "      <td>6.115668</td>\n",
              "      <td>5.624950</td>\n",
              "    </tr>\n",
              "    <tr>\n",
              "      <th>5696</th>\n",
              "      <td>126</td>\n",
              "      <td>0</td>\n",
              "      <td>0</td>\n",
              "      <td>0.000000</td>\n",
              "      <td>2</td>\n",
              "      <td>245.412689</td>\n",
              "      <td>99</td>\n",
              "      <td>62.690889</td>\n",
              "      <td>12.066673</td>\n",
              "      <td>13.392733</td>\n",
              "    </tr>\n",
              "    <tr>\n",
              "      <th>5697</th>\n",
              "      <td>2</td>\n",
              "      <td>0</td>\n",
              "      <td>0</td>\n",
              "      <td>0.258460</td>\n",
              "      <td>1</td>\n",
              "      <td>131.287959</td>\n",
              "      <td>43</td>\n",
              "      <td>37.541866</td>\n",
              "      <td>7.013681</td>\n",
              "      <td>9.005974</td>\n",
              "    </tr>\n",
              "    <tr>\n",
              "      <th>5698</th>\n",
              "      <td>115</td>\n",
              "      <td>0</td>\n",
              "      <td>0</td>\n",
              "      <td>0.149981</td>\n",
              "      <td>3</td>\n",
              "      <td>120.615558</td>\n",
              "      <td>116</td>\n",
              "      <td>42.268947</td>\n",
              "      <td>11.571468</td>\n",
              "      <td>11.876789</td>\n",
              "    </tr>\n",
              "    <tr>\n",
              "      <th>5699</th>\n",
              "      <td>98</td>\n",
              "      <td>1</td>\n",
              "      <td>0</td>\n",
              "      <td>0.314534</td>\n",
              "      <td>3</td>\n",
              "      <td>223.499345</td>\n",
              "      <td>117</td>\n",
              "      <td>57.237171</td>\n",
              "      <td>9.354241</td>\n",
              "      <td>7.500510</td>\n",
              "    </tr>\n",
              "  </tbody>\n",
              "</table>\n",
              "<p>5700 rows × 10 columns</p>\n",
              "</div>\n",
              "      <button class=\"colab-df-convert\" onclick=\"convertToInteractive('df-aa3a81e9-0609-4696-acd2-694458640a6d')\"\n",
              "              title=\"Convert this dataframe to an interactive table.\"\n",
              "              style=\"display:none;\">\n",
              "        \n",
              "  <svg xmlns=\"http://www.w3.org/2000/svg\" height=\"24px\"viewBox=\"0 0 24 24\"\n",
              "       width=\"24px\">\n",
              "    <path d=\"M0 0h24v24H0V0z\" fill=\"none\"/>\n",
              "    <path d=\"M18.56 5.44l.94 2.06.94-2.06 2.06-.94-2.06-.94-.94-2.06-.94 2.06-2.06.94zm-11 1L8.5 8.5l.94-2.06 2.06-.94-2.06-.94L8.5 2.5l-.94 2.06-2.06.94zm10 10l.94 2.06.94-2.06 2.06-.94-2.06-.94-.94-2.06-.94 2.06-2.06.94z\"/><path d=\"M17.41 7.96l-1.37-1.37c-.4-.4-.92-.59-1.43-.59-.52 0-1.04.2-1.43.59L10.3 9.45l-7.72 7.72c-.78.78-.78 2.05 0 2.83L4 21.41c.39.39.9.59 1.41.59.51 0 1.02-.2 1.41-.59l7.78-7.78 2.81-2.81c.8-.78.8-2.07 0-2.86zM5.41 20L4 18.59l7.72-7.72 1.47 1.35L5.41 20z\"/>\n",
              "  </svg>\n",
              "      </button>\n",
              "      \n",
              "  <style>\n",
              "    .colab-df-container {\n",
              "      display:flex;\n",
              "      flex-wrap:wrap;\n",
              "      gap: 12px;\n",
              "    }\n",
              "\n",
              "    .colab-df-convert {\n",
              "      background-color: #E8F0FE;\n",
              "      border: none;\n",
              "      border-radius: 50%;\n",
              "      cursor: pointer;\n",
              "      display: none;\n",
              "      fill: #1967D2;\n",
              "      height: 32px;\n",
              "      padding: 0 0 0 0;\n",
              "      width: 32px;\n",
              "    }\n",
              "\n",
              "    .colab-df-convert:hover {\n",
              "      background-color: #E2EBFA;\n",
              "      box-shadow: 0px 1px 2px rgba(60, 64, 67, 0.3), 0px 1px 3px 1px rgba(60, 64, 67, 0.15);\n",
              "      fill: #174EA6;\n",
              "    }\n",
              "\n",
              "    [theme=dark] .colab-df-convert {\n",
              "      background-color: #3B4455;\n",
              "      fill: #D2E3FC;\n",
              "    }\n",
              "\n",
              "    [theme=dark] .colab-df-convert:hover {\n",
              "      background-color: #434B5C;\n",
              "      box-shadow: 0px 1px 3px 1px rgba(0, 0, 0, 0.15);\n",
              "      filter: drop-shadow(0px 1px 2px rgba(0, 0, 0, 0.3));\n",
              "      fill: #FFFFFF;\n",
              "    }\n",
              "  </style>\n",
              "\n",
              "      <script>\n",
              "        const buttonEl =\n",
              "          document.querySelector('#df-aa3a81e9-0609-4696-acd2-694458640a6d button.colab-df-convert');\n",
              "        buttonEl.style.display =\n",
              "          google.colab.kernel.accessAllowed ? 'block' : 'none';\n",
              "\n",
              "        async function convertToInteractive(key) {\n",
              "          const element = document.querySelector('#df-aa3a81e9-0609-4696-acd2-694458640a6d');\n",
              "          const dataTable =\n",
              "            await google.colab.kernel.invokeFunction('convertToInteractive',\n",
              "                                                     [key], {});\n",
              "          if (!dataTable) return;\n",
              "\n",
              "          const docLinkHtml = 'Like what you see? Visit the ' +\n",
              "            '<a target=\"_blank\" href=https://colab.research.google.com/notebooks/data_table.ipynb>data table notebook</a>'\n",
              "            + ' to learn more about interactive tables.';\n",
              "          element.innerHTML = '';\n",
              "          dataTable['output_type'] = 'display_data';\n",
              "          await google.colab.output.renderOutput(dataTable, element);\n",
              "          const docLink = document.createElement('div');\n",
              "          docLink.innerHTML = docLinkHtml;\n",
              "          element.appendChild(docLink);\n",
              "        }\n",
              "      </script>\n",
              "    </div>\n",
              "  </div>\n",
              "  "
            ]
          },
          "metadata": {},
          "execution_count": 25
        }
      ]
    },
    {
      "cell_type": "code",
      "source": [
        "Y1"
      ],
      "metadata": {
        "colab": {
          "base_uri": "https://localhost:8080/"
        },
        "id": "5DYri5ZE_cqA",
        "outputId": "2d3884f0-cb4c-4bd8-e21d-462d3c7de4f5"
      },
      "execution_count": 26,
      "outputs": [
        {
          "output_type": "execute_result",
          "data": {
            "text/plain": [
              "0       0\n",
              "1       0\n",
              "2       0\n",
              "3       0\n",
              "4       0\n",
              "       ..\n",
              "5695    1\n",
              "5696    1\n",
              "5697    1\n",
              "5698    1\n",
              "5699    1\n",
              "Name: Churn, Length: 5700, dtype: int64"
            ]
          },
          "metadata": {},
          "execution_count": 26
        }
      ]
    },
    {
      "cell_type": "markdown",
      "source": [
        "##Train Set and Test Set"
      ],
      "metadata": {
        "id": "d6AUIRAO_hFg"
      }
    },
    {
      "cell_type": "code",
      "source": [
        "from sklearn.model_selection import train_test_split\n",
        "x_train,x_test,y_train,y_test=train_test_split(X1, Y1, test_size=0.2, random_state = 42)"
      ],
      "metadata": {
        "id": "gMNDQNtH_mfu"
      },
      "execution_count": 27,
      "outputs": []
    },
    {
      "cell_type": "markdown",
      "source": [
        "# ML Classification Models"
      ],
      "metadata": {
        "id": "V3cF4JIh_rw3"
      }
    },
    {
      "cell_type": "markdown",
      "source": [
        "## Logistic Regression"
      ],
      "metadata": {
        "id": "r5oAo1ZU_vn4"
      }
    },
    {
      "cell_type": "code",
      "source": [
        "from sklearn.linear_model import LogisticRegression\n",
        "from sklearn.metrics import classification_report\n",
        "lr=LogisticRegression(penalty='l2', solver = 'liblinear', max_iter = 500)\n",
        "lr.fit(x_train,y_train)"
      ],
      "metadata": {
        "colab": {
          "base_uri": "https://localhost:8080/"
        },
        "id": "Ml5h2ZpU_zIW",
        "outputId": "5ec9152e-53e4-46b1-8c47-921501eaf74c"
      },
      "execution_count": 28,
      "outputs": [
        {
          "output_type": "execute_result",
          "data": {
            "text/plain": [
              "LogisticRegression(max_iter=500, solver='liblinear')"
            ]
          },
          "metadata": {},
          "execution_count": 28
        }
      ]
    },
    {
      "cell_type": "code",
      "source": [
        "lr.predict(x_test)"
      ],
      "metadata": {
        "colab": {
          "base_uri": "https://localhost:8080/"
        },
        "id": "WUR8Fdvu_49x",
        "outputId": "28a68a0c-ef0b-438c-b993-b6e7add8fdd5"
      },
      "execution_count": 29,
      "outputs": [
        {
          "output_type": "execute_result",
          "data": {
            "text/plain": [
              "array([0, 1, 1, ..., 0, 0, 0])"
            ]
          },
          "metadata": {},
          "execution_count": 29
        }
      ]
    },
    {
      "cell_type": "code",
      "source": [
        "print(classification_report(y_test, lr.predict(x_test), target_names=['Churn','No Churn']))"
      ],
      "metadata": {
        "colab": {
          "base_uri": "https://localhost:8080/"
        },
        "id": "G8ngl5ewPJdb",
        "outputId": "89a94f8a-09a7-43b0-83cb-177195f20640"
      },
      "execution_count": 30,
      "outputs": [
        {
          "output_type": "stream",
          "name": "stdout",
          "text": [
            "              precision    recall  f1-score   support\n",
            "\n",
            "       Churn       0.79      0.81      0.80       585\n",
            "    No Churn       0.79      0.78      0.78       555\n",
            "\n",
            "    accuracy                           0.79      1140\n",
            "   macro avg       0.79      0.79      0.79      1140\n",
            "weighted avg       0.79      0.79      0.79      1140\n",
            "\n"
          ]
        }
      ]
    },
    {
      "cell_type": "code",
      "source": [
        "from sklearn.metrics import roc_auc_score\n",
        "roc_auc_score(y_test, lr.predict_proba(x_test)[:, 1])"
      ],
      "metadata": {
        "colab": {
          "base_uri": "https://localhost:8080/"
        },
        "id": "cfVU80pa_7Mv",
        "outputId": "b8a8193c-2d6c-41d5-cb54-fbe094908f09"
      },
      "execution_count": 31,
      "outputs": [
        {
          "output_type": "execute_result",
          "data": {
            "text/plain": [
              "0.8589697389697389"
            ]
          },
          "metadata": {},
          "execution_count": 31
        }
      ]
    },
    {
      "cell_type": "markdown",
      "source": [
        "##Random Forest"
      ],
      "metadata": {
        "id": "g8bDI2KDODSz"
      }
    },
    {
      "cell_type": "code",
      "source": [
        "from sklearn.model_selection import GridSearchCV\n",
        "from sklearn.ensemble import RandomForestClassifier\n",
        "RF=RandomForestClassifier(max_depth=6)\n",
        "param_grid = {'criterion': ['gini','entropy'], 'n_estimators': [100,200,500]}\n",
        "RF = RandomForestClassifier()\n",
        "grid_search = GridSearchCV(RF,param_grid,cv=5)\n",
        "grid_search.fit(x_train,y_train)\n",
        "grid_search.best_params_"
      ],
      "metadata": {
        "colab": {
          "base_uri": "https://localhost:8080/"
        },
        "id": "vvl_aoeRRwns",
        "outputId": "29c4a274-effb-4e28-b845-21171c099a92"
      },
      "execution_count": 46,
      "outputs": [
        {
          "output_type": "execute_result",
          "data": {
            "text/plain": [
              "{'criterion': 'gini', 'n_estimators': 500}"
            ]
          },
          "metadata": {},
          "execution_count": 46
        }
      ]
    },
    {
      "cell_type": "code",
      "source": [
        "from sklearn.ensemble import RandomForestClassifier\n",
        "RF = RandomForestClassifier(criterion='entropy', n_estimators= 500)\n",
        "RF.fit(x_train,y_train)"
      ],
      "metadata": {
        "colab": {
          "base_uri": "https://localhost:8080/"
        },
        "id": "nc13XaS3OISa",
        "outputId": "72d6fe8d-7788-4d00-89e2-946a29597ffb"
      },
      "execution_count": 33,
      "outputs": [
        {
          "output_type": "execute_result",
          "data": {
            "text/plain": [
              "RandomForestClassifier(criterion='entropy', n_estimators=500)"
            ]
          },
          "metadata": {},
          "execution_count": 33
        }
      ]
    },
    {
      "cell_type": "code",
      "source": [
        "RF.predict(x_test)"
      ],
      "metadata": {
        "colab": {
          "base_uri": "https://localhost:8080/"
        },
        "id": "hdiGPg-yOKy6",
        "outputId": "559af10d-f578-4777-bd68-78b6e1057dca"
      },
      "execution_count": 34,
      "outputs": [
        {
          "output_type": "execute_result",
          "data": {
            "text/plain": [
              "array([0, 0, 1, ..., 0, 0, 0])"
            ]
          },
          "metadata": {},
          "execution_count": 34
        }
      ]
    },
    {
      "cell_type": "code",
      "source": [
        "print(classification_report(y_test, RF.predict(x_test), target_names=['Churn','No Churn']))"
      ],
      "metadata": {
        "colab": {
          "base_uri": "https://localhost:8080/"
        },
        "id": "N-j3_MYGPAkD",
        "outputId": "a2668470-75d8-4b49-83ed-48b8873b2a97"
      },
      "execution_count": 35,
      "outputs": [
        {
          "output_type": "stream",
          "name": "stdout",
          "text": [
            "              precision    recall  f1-score   support\n",
            "\n",
            "       Churn       0.93      0.91      0.92       585\n",
            "    No Churn       0.91      0.93      0.92       555\n",
            "\n",
            "    accuracy                           0.92      1140\n",
            "   macro avg       0.92      0.92      0.92      1140\n",
            "weighted avg       0.92      0.92      0.92      1140\n",
            "\n"
          ]
        }
      ]
    },
    {
      "cell_type": "code",
      "source": [
        "roc_auc_score(y_test, RF.predict_proba(x_test)[:, 1])"
      ],
      "metadata": {
        "colab": {
          "base_uri": "https://localhost:8080/"
        },
        "id": "3XK8jCN0OOHC",
        "outputId": "5745f268-d994-4d57-9c5b-0731c481d884"
      },
      "execution_count": 36,
      "outputs": [
        {
          "output_type": "execute_result",
          "data": {
            "text/plain": [
              "0.9786124586124586"
            ]
          },
          "metadata": {},
          "execution_count": 36
        }
      ]
    },
    {
      "cell_type": "markdown",
      "source": [
        "##XGBoost Classifier"
      ],
      "metadata": {
        "id": "fSC2DOcDOjCp"
      }
    },
    {
      "cell_type": "code",
      "source": [
        "import xgboost as xgb\n",
        "from xgboost import XGBClassifier\n",
        "xgbc = XGBClassifier(max_depth = 3)\n",
        "param_grid = {'learning_rate': [0.001,0.01,0.1,1], 'n_estimators': [10,50,100,200,500]}\n",
        "xgbc = XGBClassifier()\n",
        "grid_search = GridSearchCV(xgbc,param_grid,cv=5)\n",
        "grid_search.fit(x_train,y_train)\n",
        "grid_search.best_params_"
      ],
      "metadata": {
        "colab": {
          "base_uri": "https://localhost:8080/"
        },
        "id": "EtgoRuvKTVgL",
        "outputId": "962aa149-1443-4fd8-d9ee-205c388d5abc"
      },
      "execution_count": 37,
      "outputs": [
        {
          "output_type": "execute_result",
          "data": {
            "text/plain": [
              "{'learning_rate': 1, 'n_estimators': 500}"
            ]
          },
          "metadata": {},
          "execution_count": 37
        }
      ]
    },
    {
      "cell_type": "code",
      "source": [
        "import xgboost as xgb\n",
        "from xgboost import XGBClassifier"
      ],
      "metadata": {
        "id": "dahLKyDHOkoo"
      },
      "execution_count": 38,
      "outputs": []
    },
    {
      "cell_type": "code",
      "source": [
        "xgbc = XGBClassifier(learning_rate=1, n_estimators=500)\n",
        "xgbc.fit(x_train,y_train)"
      ],
      "metadata": {
        "colab": {
          "base_uri": "https://localhost:8080/"
        },
        "id": "zaZLjMvROpOA",
        "outputId": "06f046da-92bf-44a8-c12d-a41a84872787"
      },
      "execution_count": 39,
      "outputs": [
        {
          "output_type": "execute_result",
          "data": {
            "text/plain": [
              "XGBClassifier(learning_rate=1, n_estimators=500)"
            ]
          },
          "metadata": {},
          "execution_count": 39
        }
      ]
    },
    {
      "cell_type": "code",
      "source": [
        "print(classification_report(y_test, xgbc.predict(x_test), target_names=['Churn','No Churn']))"
      ],
      "metadata": {
        "colab": {
          "base_uri": "https://localhost:8080/"
        },
        "id": "yPPbBAofO_Wc",
        "outputId": "0bf87964-9311-4455-80b0-e6e0bf441387"
      },
      "execution_count": 40,
      "outputs": [
        {
          "output_type": "stream",
          "name": "stdout",
          "text": [
            "              precision    recall  f1-score   support\n",
            "\n",
            "       Churn       0.94      0.91      0.93       585\n",
            "    No Churn       0.91      0.94      0.92       555\n",
            "\n",
            "    accuracy                           0.93      1140\n",
            "   macro avg       0.93      0.93      0.93      1140\n",
            "weighted avg       0.93      0.93      0.93      1140\n",
            "\n"
          ]
        }
      ]
    },
    {
      "cell_type": "code",
      "source": [
        "roc_auc_score(y_test, xgbc.predict_proba(x_test)[:, 1])"
      ],
      "metadata": {
        "colab": {
          "base_uri": "https://localhost:8080/"
        },
        "id": "p9aTVaKSOsD4",
        "outputId": "867c8370-414a-4173-dcb9-5c2c43011c48"
      },
      "execution_count": 41,
      "outputs": [
        {
          "output_type": "execute_result",
          "data": {
            "text/plain": [
              "0.9756895356895356"
            ]
          },
          "metadata": {},
          "execution_count": 41
        }
      ]
    },
    {
      "cell_type": "markdown",
      "source": [
        "##**Out of the 3 Classification models, Random Forest gives better AU-ROC score of 0.978, hence this model is the best**"
      ],
      "metadata": {
        "id": "83tZn6q6QPhp"
      }
    },
    {
      "cell_type": "markdown",
      "source": [
        "## Prediction from user input"
      ],
      "metadata": {
        "id": "SrmQoriy7T2F"
      }
    },
    {
      "cell_type": "code",
      "source": [
        "number_of_inputs = int(input(\"Enter the number of inputs: \"))"
      ],
      "metadata": {
        "id": "1QwIlYqw7usM",
        "colab": {
          "base_uri": "https://localhost:8080/"
        },
        "outputId": "214f2a6a-f03e-44cb-9db4-80cf4b681dac"
      },
      "execution_count": 42,
      "outputs": [
        {
          "name": "stdout",
          "output_type": "stream",
          "text": [
            "Enter the number of inputs: 1\n"
          ]
        }
      ]
    },
    {
      "cell_type": "code",
      "source": [
        "for _ in range(number_of_inputs):\n",
        "    AccountWeeks1 = int(input(\"Enter the number of AccountWeeks: \"))\n",
        "    ContractRenewal1 = int(input(\"Enter the ContractRenewal status: \"))\n",
        "    DataPlan1 = int(input(\"Enter the DataPlan: \"))\n",
        "    DataUsage1 = float(input(\"Enter the DataUsage: \"))\n",
        "    CustServCalls1 = int(input(\"Enter the CustServCalls: \"))\n",
        "    DayMins1 = float(input(\"Enter the DayMins: \"))\n",
        "    DayCalls1 = int(input(\"Enter the DayCalls: \"))\n",
        "    MonthlyCharge1 = float(input(\"Enter the MonthlyCharge: \"))\n",
        "    OverageFee1 = float(input(\"Enter the OverageFee: \")) \n",
        "    RoamMins1 = float(input(\"Enter the RoamMins: \"))\n",
        "    df_input = pd.DataFrame(data = [[AccountWeeks1,ContractRenewal1,DataPlan1,DataUsage1,CustServCalls1,DayMins1,DayCalls1,MonthlyCharge1,OverageFee1,RoamMins1]], columns=[\"AccountWeeks\", \"ContractRenewal\", \"DataPlan\", \"DataUsage\", \"CustServCalls\", \"DayMins\", \"DayCalls\", \"MonthlyCharge\", \"OverageFee\", \"RoamMins\"])"
      ],
      "metadata": {
        "id": "2sm33FQ87zfL",
        "colab": {
          "base_uri": "https://localhost:8080/"
        },
        "outputId": "4a6f9a49-0bf3-4b41-f36b-cadafc62083c"
      },
      "execution_count": 43,
      "outputs": [
        {
          "name": "stdout",
          "output_type": "stream",
          "text": [
            "Enter the number of AccountWeeks: 130\n",
            "Enter the ContractRenewal status: 1\n",
            "Enter the DataPlan: 1\n",
            "Enter the DataUsage: 2.9\n",
            "Enter the CustServCalls: 1\n",
            "Enter the DayMins: 272.5\n",
            "Enter the DayCalls: 120\n",
            "Enter the MonthlyCharge: 85.0\n",
            "Enter the OverageFee: 9.9\n",
            "Enter the RoamMins: 9.8\n"
          ]
        }
      ]
    },
    {
      "cell_type": "code",
      "source": [
        "print(df_input)"
      ],
      "metadata": {
        "id": "s4gAhx-u-zGC",
        "colab": {
          "base_uri": "https://localhost:8080/"
        },
        "outputId": "83497875-dd1e-4521-fbdb-e4c3258ac6f0"
      },
      "execution_count": 44,
      "outputs": [
        {
          "output_type": "stream",
          "name": "stdout",
          "text": [
            "   AccountWeeks  ContractRenewal  DataPlan  DataUsage  CustServCalls  DayMins  \\\n",
            "0           130                1         1        2.9              1    272.5   \n",
            "\n",
            "   DayCalls  MonthlyCharge  OverageFee  RoamMins  \n",
            "0       120           85.0         9.9       9.8  \n"
          ]
        }
      ]
    },
    {
      "cell_type": "markdown",
      "source": [
        "##Prediction for input from user"
      ],
      "metadata": {
        "id": "7ZkQRuL0_NNV"
      }
    },
    {
      "cell_type": "code",
      "source": [
        "RF.predict(df_input)"
      ],
      "metadata": {
        "id": "8yw_Vwro_SFQ",
        "colab": {
          "base_uri": "https://localhost:8080/"
        },
        "outputId": "4c627554-22cf-40d2-8045-54f3cb0f6f9f"
      },
      "execution_count": 45,
      "outputs": [
        {
          "output_type": "execute_result",
          "data": {
            "text/plain": [
              "array([0])"
            ]
          },
          "metadata": {},
          "execution_count": 45
        }
      ]
    },
    {
      "cell_type": "markdown",
      "source": [
        "### **The model predicts that the customer will not churn (will not cancel the service)**"
      ],
      "metadata": {
        "id": "mJgHxDIqHyox"
      }
    }
  ]
}